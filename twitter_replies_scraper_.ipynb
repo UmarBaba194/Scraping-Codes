{
 "cells": [
  {
   "cell_type": "markdown",
   "id": "5d9bbd21-6d2e-4d82-aa88-7195381eddad",
   "metadata": {},
   "source": [
    "### Replies scraper"
   ]
  },
  {
   "cell_type": "code",
   "execution_count": 4,
   "id": "f1309e08",
   "metadata": {},
   "outputs": [
    {
     "name": "stdout",
     "output_type": "stream",
     "text": [
      "Collecting webdriver_manager"
     ]
    },
    {
     "name": "stderr",
     "output_type": "stream",
     "text": [
      "WARNING: Ignoring invalid distribution -treamlit (c:\\users\\user\\anaconda3\\lib\\site-packages)\n",
      "WARNING: Ignoring invalid distribution -treamlit (c:\\users\\user\\anaconda3\\lib\\site-packages)\n",
      "WARNING: Ignoring invalid distribution -treamlit (c:\\users\\user\\anaconda3\\lib\\site-packages)\n",
      "WARNING: Ignoring invalid distribution -treamlit (c:\\users\\user\\anaconda3\\lib\\site-packages)\n",
      "WARNING: Ignoring invalid distribution -treamlit (c:\\users\\user\\anaconda3\\lib\\site-packages)\n",
      "WARNING: Ignoring invalid distribution -treamlit (c:\\users\\user\\anaconda3\\lib\\site-packages)\n",
      "WARNING: Ignoring invalid distribution -treamlit (c:\\users\\user\\anaconda3\\lib\\site-packages)\n",
      "WARNING: Ignoring invalid distribution -treamlit (c:\\users\\user\\anaconda3\\lib\\site-packages)\n"
     ]
    },
    {
     "name": "stdout",
     "output_type": "stream",
     "text": [
      "\n",
      "  Downloading webdriver_manager-4.0.1-py2.py3-none-any.whl (27 kB)\n",
      "Collecting python-dotenv\n",
      "  Downloading python_dotenv-1.0.0-py3-none-any.whl (19 kB)\n",
      "Requirement already satisfied: packaging in c:\\users\\user\\anaconda3\\lib\\site-packages (from webdriver_manager) (22.0)\n",
      "Requirement already satisfied: requests in c:\\users\\user\\anaconda3\\lib\\site-packages (from webdriver_manager) (2.23.0)\n",
      "Requirement already satisfied: idna<3,>=2.5 in c:\\users\\user\\anaconda3\\lib\\site-packages (from requests->webdriver_manager) (2.10)\n",
      "Requirement already satisfied: urllib3!=1.25.0,!=1.25.1,<1.26,>=1.21.1 in c:\\users\\user\\anaconda3\\lib\\site-packages (from requests->webdriver_manager) (1.25.11)\n",
      "Requirement already satisfied: chardet<4,>=3.0.2 in c:\\users\\user\\anaconda3\\lib\\site-packages (from requests->webdriver_manager) (3.0.4)\n",
      "Requirement already satisfied: certifi>=2017.4.17 in c:\\users\\user\\anaconda3\\lib\\site-packages (from requests->webdriver_manager) (2022.12.7)\n",
      "Installing collected packages: python-dotenv, webdriver_manager\n",
      "Successfully installed python-dotenv-1.0.0 webdriver_manager-4.0.1\n"
     ]
    }
   ],
   "source": [
    "!pip install webdriver_manager"
   ]
  },
  {
   "cell_type": "code",
   "execution_count": 5,
   "id": "307df1bb-d478-4784-8aeb-7a1ed82f7a52",
   "metadata": {},
   "outputs": [],
   "source": [
    "from selenium import webdriver\n",
    "from selenium.webdriver.common.by import By\n",
    "from selenium.webdriver.chrome.service import Service\n",
    "from webdriver_manager.firefox import GeckoDriverManager\n",
    "\n",
    "from time import sleep"
   ]
  },
  {
   "cell_type": "code",
   "execution_count": 6,
   "id": "a7d9ffae-3da4-48d2-a2b3-614986b16ee6",
   "metadata": {},
   "outputs": [],
   "source": [
    "target_tweet='https://twitter.com/ShowmaxNG/status/1735057012252442931'"
   ]
  },
  {
   "cell_type": "code",
   "execution_count": 7,
   "id": "ef598a34-f8e0-488c-aea9-9ac548b8b87b",
   "metadata": {},
   "outputs": [],
   "source": [
    "# Twitter Login \n",
    "twitter_usr=\"@iam_UmarMB\"\n",
    "twitter_pass='0903048656\n",
    "\n",
    "def twitter_login(driver, twitter_usr=str, twitter_pass=str):\n",
    "    driver.get('https://twitter.com/i/flow/login')\n",
    "    sleep(6)\n",
    "    user = driver.find_element(by=By.XPATH, value='//*[@autocomplete=\"username\"]')\n",
    "    sleep(1)\n",
    "    user.send_keys(twitter_usr)\n",
    "    sleep(1)\n",
    "    next_btn = driver.find_element(by=By.XPATH, value='/html/body/div/div/div/div[1]/div/div/div/div/div/div/div[2]/div[2]/div/div/div[2]/div[2]/div[1]/div/div/div[6]/div')\n",
    "    next_btn.click()\n",
    "    sleep(4)\n",
    "    psswd_in = driver.find_element(by=By.XPATH, value='//*[@autocomplete=\"current-password\"]')\n",
    "    psswd_in.send_keys(twitter_pass)\n",
    "    sleep(2)\n",
    "    login_btn = driver.find_element(by=By.XPATH, value='//html/body/div/div/div/div[1]/div/div/div/div/div/div/div[2]/div[2]/div/div/div[2]/div[2]/div[2]/div/div[1]/div/div/div')\n",
    "    login_btn.click()\n",
    "    sleep(3)\n",
    "    print('Login Successful')\n",
    "    return driver\n"
   ]
  },
  {
   "cell_type": "code",
   "execution_count": 9,
   "id": "01201fea",
   "metadata": {},
   "outputs": [
    {
     "name": "stdout",
     "output_type": "stream",
     "text": [
      "Login Successful\n"
     ]
    },
    {
     "data": {
      "text/plain": [
       "<selenium.webdriver.chrome.webdriver.WebDriver (session=\"5c4711986d140d1c1566e546aa01289e\")>"
      ]
     },
     "execution_count": 9,
     "metadata": {},
     "output_type": "execute_result"
    }
   ],
   "source": [
    "from selenium.webdriver.common.by import By\n",
    "from selenium.webdriver.support.ui import WebDriverWait\n",
    "from selenium.webdriver.support import expected_conditions as EC\n",
    "from selenium.webdriver.common.keys import Keys\n",
    "from selenium.webdriver.common.action_chains import ActionChains\n",
    "from selenium.webdriver.chrome.service import Service\n",
    "from webdriver_manager.chrome import ChromeDriverManager\n",
    "from time import sleep\n",
    "\n",
    "# Twitter Login\n",
    "twitter_usr = \"@iam_UmarMB\"\n",
    "twitter_pass = 'Ba19ba940326'\n",
    "\n",
    "def twitter_login(driver, twitter_usr=str, twitter_pass=str):\n",
    "    driver.get('https://twitter.com/i/flow/login')\n",
    "\n",
    "    # Wait for the username input field to be present\n",
    "    user = WebDriverWait(driver, 10).until(\n",
    "        EC.presence_of_element_located((By.XPATH, '//*[@autocomplete=\"username\"]'))\n",
    "    )\n",
    "    user.send_keys(twitter_usr)\n",
    "    sleep(1)\n",
    "\n",
    "    # Click on the next button\n",
    "    next_btn = WebDriverWait(driver, 10).until(\n",
    "        EC.element_to_be_clickable((By.XPATH, '/html/body/div/div/div/div[1]/div/div/div/div/div/div/div[2]/div[2]/div/div/div[2]/div[2]/div[1]/div/div/div[6]/div'))\n",
    "    )\n",
    "    next_btn.click()\n",
    "    sleep(4)\n",
    "\n",
    "    # Wait for the password input field to be present\n",
    "    psswd_in = WebDriverWait(driver, 10).until(\n",
    "        EC.presence_of_element_located((By.XPATH, '//*[@autocomplete=\"current-password\"]'))\n",
    "    )\n",
    "    psswd_in.send_keys(twitter_pass)\n",
    "    sleep(2)\n",
    "\n",
    "    # Click on the login button\n",
    "    login_btn = WebDriverWait(driver, 10).until(\n",
    "        EC.element_to_be_clickable((By.XPATH, '//html/body/div/div/div/div[1]/div/div/div/div/div/div/div[2]/div[2]/div/div/div[2]/div[2]/div[2]/div/div[1]/div/div/div'))\n",
    "    )\n",
    "    login_btn.click()\n",
    "    sleep(3)\n",
    "\n",
    "    print('Login Successful')\n",
    "    return driver\n",
    "\n",
    "# Set up the driver\n",
    "driver = webdriver.Chrome(service=Service(ChromeDriverManager().install()))\n",
    "\n",
    "# Call the login function\n",
    "twitter_login(driver, twitter_usr=twitter_usr, twitter_pass=twitter_pass)\n"
   ]
  },
  {
   "cell_type": "code",
   "execution_count": 8,
   "id": "39181426-f4b0-45ad-a34f-9e272d2a0743",
   "metadata": {},
   "outputs": [
    {
     "ename": "NoSuchElementException",
     "evalue": "Message: Unable to locate element: //*[@autocomplete=\"current-password\"]; For documentation on this error, please visit: https://www.selenium.dev/documentation/webdriver/troubleshooting/errors#no-such-element-exception\nStacktrace:\nRemoteError@chrome://remote/content/shared/RemoteError.sys.mjs:8:8\nWebDriverError@chrome://remote/content/shared/webdriver/Errors.sys.mjs:189:5\nNoSuchElementError@chrome://remote/content/shared/webdriver/Errors.sys.mjs:507:5\ndom.find/</<@chrome://remote/content/shared/DOM.sys.mjs:132:16\n",
     "output_type": "error",
     "traceback": [
      "\u001b[1;31m---------------------------------------------------------------------------\u001b[0m",
      "\u001b[1;31mNoSuchElementException\u001b[0m                    Traceback (most recent call last)",
      "Cell \u001b[1;32mIn[8], line 3\u001b[0m\n\u001b[0;32m      1\u001b[0m driver \u001b[38;5;241m=\u001b[39m webdriver\u001b[38;5;241m.\u001b[39mFirefox(service\u001b[38;5;241m=\u001b[39mService(GeckoDriverManager()\u001b[38;5;241m.\u001b[39minstall()))\n\u001b[1;32m----> 3\u001b[0m \u001b[43mtwitter_login\u001b[49m\u001b[43m(\u001b[49m\u001b[43mdriver\u001b[49m\u001b[43m,\u001b[49m\u001b[43m \u001b[49m\u001b[43mtwitter_usr\u001b[49m\u001b[38;5;241;43m=\u001b[39;49m\u001b[43mtwitter_usr\u001b[49m\u001b[43m,\u001b[49m\u001b[43m \u001b[49m\u001b[43mtwitter_pass\u001b[49m\u001b[38;5;241;43m=\u001b[39;49m\u001b[43mtwitter_pass\u001b[49m\u001b[43m)\u001b[49m\n",
      "Cell \u001b[1;32mIn[7], line 15\u001b[0m, in \u001b[0;36mtwitter_login\u001b[1;34m(driver, twitter_usr, twitter_pass)\u001b[0m\n\u001b[0;32m     13\u001b[0m next_btn\u001b[38;5;241m.\u001b[39mclick()\n\u001b[0;32m     14\u001b[0m sleep(\u001b[38;5;241m4\u001b[39m)\n\u001b[1;32m---> 15\u001b[0m psswd_in \u001b[38;5;241m=\u001b[39m \u001b[43mdriver\u001b[49m\u001b[38;5;241;43m.\u001b[39;49m\u001b[43mfind_element\u001b[49m\u001b[43m(\u001b[49m\u001b[43mby\u001b[49m\u001b[38;5;241;43m=\u001b[39;49m\u001b[43mBy\u001b[49m\u001b[38;5;241;43m.\u001b[39;49m\u001b[43mXPATH\u001b[49m\u001b[43m,\u001b[49m\u001b[43m \u001b[49m\u001b[43mvalue\u001b[49m\u001b[38;5;241;43m=\u001b[39;49m\u001b[38;5;124;43m'\u001b[39;49m\u001b[38;5;124;43m//*[@autocomplete=\u001b[39;49m\u001b[38;5;124;43m\"\u001b[39;49m\u001b[38;5;124;43mcurrent-password\u001b[39;49m\u001b[38;5;124;43m\"\u001b[39;49m\u001b[38;5;124;43m]\u001b[39;49m\u001b[38;5;124;43m'\u001b[39;49m\u001b[43m)\u001b[49m\n\u001b[0;32m     16\u001b[0m psswd_in\u001b[38;5;241m.\u001b[39msend_keys(twitter_pass)\n\u001b[0;32m     17\u001b[0m sleep(\u001b[38;5;241m2\u001b[39m)\n",
      "File \u001b[1;32m~\\anaconda3\\lib\\site-packages\\selenium\\webdriver\\remote\\webdriver.py:742\u001b[0m, in \u001b[0;36mWebDriver.find_element\u001b[1;34m(self, by, value)\u001b[0m\n\u001b[0;32m    739\u001b[0m     by \u001b[38;5;241m=\u001b[39m By\u001b[38;5;241m.\u001b[39mCSS_SELECTOR\n\u001b[0;32m    740\u001b[0m     value \u001b[38;5;241m=\u001b[39m \u001b[38;5;124mf\u001b[39m\u001b[38;5;124m'\u001b[39m\u001b[38;5;124m[name=\u001b[39m\u001b[38;5;124m\"\u001b[39m\u001b[38;5;132;01m{\u001b[39;00mvalue\u001b[38;5;132;01m}\u001b[39;00m\u001b[38;5;124m\"\u001b[39m\u001b[38;5;124m]\u001b[39m\u001b[38;5;124m'\u001b[39m\n\u001b[1;32m--> 742\u001b[0m \u001b[38;5;28;01mreturn\u001b[39;00m \u001b[38;5;28;43mself\u001b[39;49m\u001b[38;5;241;43m.\u001b[39;49m\u001b[43mexecute\u001b[49m\u001b[43m(\u001b[49m\u001b[43mCommand\u001b[49m\u001b[38;5;241;43m.\u001b[39;49m\u001b[43mFIND_ELEMENT\u001b[49m\u001b[43m,\u001b[49m\u001b[43m \u001b[49m\u001b[43m{\u001b[49m\u001b[38;5;124;43m\"\u001b[39;49m\u001b[38;5;124;43musing\u001b[39;49m\u001b[38;5;124;43m\"\u001b[39;49m\u001b[43m:\u001b[49m\u001b[43m \u001b[49m\u001b[43mby\u001b[49m\u001b[43m,\u001b[49m\u001b[43m \u001b[49m\u001b[38;5;124;43m\"\u001b[39;49m\u001b[38;5;124;43mvalue\u001b[39;49m\u001b[38;5;124;43m\"\u001b[39;49m\u001b[43m:\u001b[49m\u001b[43m \u001b[49m\u001b[43mvalue\u001b[49m\u001b[43m}\u001b[49m\u001b[43m)\u001b[49m[\u001b[38;5;124m\"\u001b[39m\u001b[38;5;124mvalue\u001b[39m\u001b[38;5;124m\"\u001b[39m]\n",
      "File \u001b[1;32m~\\anaconda3\\lib\\site-packages\\selenium\\webdriver\\remote\\webdriver.py:348\u001b[0m, in \u001b[0;36mWebDriver.execute\u001b[1;34m(self, driver_command, params)\u001b[0m\n\u001b[0;32m    346\u001b[0m response \u001b[38;5;241m=\u001b[39m \u001b[38;5;28mself\u001b[39m\u001b[38;5;241m.\u001b[39mcommand_executor\u001b[38;5;241m.\u001b[39mexecute(driver_command, params)\n\u001b[0;32m    347\u001b[0m \u001b[38;5;28;01mif\u001b[39;00m response:\n\u001b[1;32m--> 348\u001b[0m     \u001b[38;5;28;43mself\u001b[39;49m\u001b[38;5;241;43m.\u001b[39;49m\u001b[43merror_handler\u001b[49m\u001b[38;5;241;43m.\u001b[39;49m\u001b[43mcheck_response\u001b[49m\u001b[43m(\u001b[49m\u001b[43mresponse\u001b[49m\u001b[43m)\u001b[49m\n\u001b[0;32m    349\u001b[0m     response[\u001b[38;5;124m\"\u001b[39m\u001b[38;5;124mvalue\u001b[39m\u001b[38;5;124m\"\u001b[39m] \u001b[38;5;241m=\u001b[39m \u001b[38;5;28mself\u001b[39m\u001b[38;5;241m.\u001b[39m_unwrap_value(response\u001b[38;5;241m.\u001b[39mget(\u001b[38;5;124m\"\u001b[39m\u001b[38;5;124mvalue\u001b[39m\u001b[38;5;124m\"\u001b[39m, \u001b[38;5;28;01mNone\u001b[39;00m))\n\u001b[0;32m    350\u001b[0m     \u001b[38;5;28;01mreturn\u001b[39;00m response\n",
      "File \u001b[1;32m~\\anaconda3\\lib\\site-packages\\selenium\\webdriver\\remote\\errorhandler.py:229\u001b[0m, in \u001b[0;36mErrorHandler.check_response\u001b[1;34m(self, response)\u001b[0m\n\u001b[0;32m    227\u001b[0m         alert_text \u001b[38;5;241m=\u001b[39m value[\u001b[38;5;124m\"\u001b[39m\u001b[38;5;124malert\u001b[39m\u001b[38;5;124m\"\u001b[39m]\u001b[38;5;241m.\u001b[39mget(\u001b[38;5;124m\"\u001b[39m\u001b[38;5;124mtext\u001b[39m\u001b[38;5;124m\"\u001b[39m)\n\u001b[0;32m    228\u001b[0m     \u001b[38;5;28;01mraise\u001b[39;00m exception_class(message, screen, stacktrace, alert_text)  \u001b[38;5;66;03m# type: ignore[call-arg]  # mypy is not smart enough here\u001b[39;00m\n\u001b[1;32m--> 229\u001b[0m \u001b[38;5;28;01mraise\u001b[39;00m exception_class(message, screen, stacktrace)\n",
      "\u001b[1;31mNoSuchElementException\u001b[0m: Message: Unable to locate element: //*[@autocomplete=\"current-password\"]; For documentation on this error, please visit: https://www.selenium.dev/documentation/webdriver/troubleshooting/errors#no-such-element-exception\nStacktrace:\nRemoteError@chrome://remote/content/shared/RemoteError.sys.mjs:8:8\nWebDriverError@chrome://remote/content/shared/webdriver/Errors.sys.mjs:189:5\nNoSuchElementError@chrome://remote/content/shared/webdriver/Errors.sys.mjs:507:5\ndom.find/</<@chrome://remote/content/shared/DOM.sys.mjs:132:16\n"
     ]
    }
   ],
   "source": [
    "driver = webdriver.Firefox(service=Service(GeckoDriverManager().install()))\n",
    "\n",
    "twitter_login(driver, twitter_usr=twitter_usr, twitter_pass=twitter_pass)"
   ]
  },
  {
   "cell_type": "code",
   "execution_count": 12,
   "id": "f8078dcf-898e-4542-872f-5ddd25608615",
   "metadata": {},
   "outputs": [
    {
     "name": "stdout",
     "output_type": "stream",
     "text": [
      "Found 75 replies.\n"
     ]
    }
   ],
   "source": [
    "import time\n",
    "\n",
    "tweets = []\n",
    "\n",
    "driver.get(target_tweet)\n",
    "\n",
    "time.sleep(6)\n",
    "\n",
    "MAX_SCROLLS=5\n",
    "for _ in range(MAX_SCROLLS):\n",
    "    last = driver.find_elements(By.XPATH, '//div[@data-testid=\"cellInnerDiv\"]')[-1]\n",
    "    driver.execute_script(\"arguments[0].scrollIntoView(true)\", last)\n",
    "    time.sleep(.2)\n",
    "    all_tweets = driver.find_elements(By.XPATH, '//div[@data-testid]//article[@data-testid=\"tweet\"]')\n",
    "    for item in all_tweets[1:]: # skip first tweet because it is BBC tweet\n",
    " \n",
    "            try:\n",
    "                date = item.find_element(By.XPATH, './/time').text\n",
    "            except:\n",
    "                date = '[empty]'\n",
    "\n",
    "            try:\n",
    "                text = item.find_element(By.XPATH, './/div[@data-testid=\"tweetText\"]').text\n",
    "            except:\n",
    "                text = '[empty]'\n",
    "\n",
    "\n",
    "            try:\n",
    "                replying_to = item.find_element(By.XPATH, './/div[contains(text(), \"Replying to\")]//a').text\n",
    "            except:\n",
    "                replying_to = '[empty]'\n",
    "            \n",
    "            tweets.append([date, replying_to, text])\n",
    "            time.sleep(.2)\n",
    "            \n",
    "print(f'Found {len(tweets)} replies.')"
   ]
  },
  {
   "cell_type": "code",
   "execution_count": 13,
   "id": "2b2e5517-1aea-42bb-880a-eda84bc80034",
   "metadata": {},
   "outputs": [],
   "source": [
    "# Scraping the replies loaded by the 'load more replies' button, if there are such. \n",
    "#The \"load more replies\" XPATH changes dinamically and i cannot figure out the mechanics, so for now i'm brute-forcing it.\n",
    "# Filling the missing values with None \n",
    "\n",
    "for i in range(20):\n",
    "    try:\n",
    "        show_more=driver.find_element(By.XPATH, value=f'/html/body/div[1]/div/div/div[2]/main/div/div/div/div[1]/div/section/div/div/div[{i}]/div/div/div/div/div/span')\n",
    "        show_more.click()\n",
    "        print('Found more replies!')\n",
    "        for _ in range(MAX_SCROLLS):\n",
    "            last = driver.find_elements(By.XPATH, '//div[@data-testid=\"cellInnerDiv\"]')[-1]\n",
    "            driver.execute_script(\"arguments[0].scrollIntoView(true)\", last)\n",
    "            time.sleep(.2)\n",
    "            all_tweets = driver.find_elements(By.XPATH, '//div[@data-testid]//article[@data-testid=\"tweet\"]')\n",
    "            for item in all_tweets: # skip first tweet because it is BBC tweet\n",
    "\n",
    "                    try:\n",
    "                        date = item.find_element(By.XPATH, './/time').text\n",
    "                    except:\n",
    "                        date = None\n",
    "\n",
    "                    try:\n",
    "                        text = item.find_element(By.XPATH, './/div[@data-testid=\"tweetText\"]').text\n",
    "                    except:\n",
    "                        text = None\n",
    "\n",
    "                    try:\n",
    "                        replying_to = item.find_element(By.XPATH, './/div[contains(text(), \"Replying to\")]//a').text\n",
    "                    except:\n",
    "                        replying_to = None\n",
    "\n",
    "                    tweets.append([date, replying_to, text])\n",
    "                    time.sleep(.2)\n",
    "\n",
    "        print(f'Found {len(tweets)} replies totally.')\n",
    "        driver.quit()\n",
    "    except:\n",
    "        continue"
   ]
  },
  {
   "cell_type": "code",
   "execution_count": 14,
   "id": "a1993603-645f-4ea2-8f34-b4f3a8af3aef",
   "metadata": {},
   "outputs": [],
   "source": [
    "# Example of dataframe construction\n",
    "import pandas as pd\n",
    "\n",
    "df = pd.DataFrame(tweets, columns=['Date of Tweet', 'Replying to', 'Tweet'])\n"
   ]
  },
  {
   "cell_type": "code",
   "execution_count": 15,
   "id": "32ad7334",
   "metadata": {},
   "outputs": [
    {
     "data": {
      "text/html": [
       "<div>\n",
       "<style scoped>\n",
       "    .dataframe tbody tr th:only-of-type {\n",
       "        vertical-align: middle;\n",
       "    }\n",
       "\n",
       "    .dataframe tbody tr th {\n",
       "        vertical-align: top;\n",
       "    }\n",
       "\n",
       "    .dataframe thead th {\n",
       "        text-align: right;\n",
       "    }\n",
       "</style>\n",
       "<table border=\"1\" class=\"dataframe\">\n",
       "  <thead>\n",
       "    <tr style=\"text-align: right;\">\n",
       "      <th></th>\n",
       "      <th>Date of Tweet</th>\n",
       "      <th>Replying to</th>\n",
       "      <th>Tweet</th>\n",
       "    </tr>\n",
       "  </thead>\n",
       "  <tbody>\n",
       "    <tr>\n",
       "      <th>0</th>\n",
       "      <td>Dec 14</td>\n",
       "      <td>[empty]</td>\n",
       "      <td>Is it on YouTube??</td>\n",
       "    </tr>\n",
       "    <tr>\n",
       "      <th>1</th>\n",
       "      <td>Dec 14</td>\n",
       "      <td>[empty]</td>\n",
       "      <td>No it is not, it is streaming on Showmax  ~AA</td>\n",
       "    </tr>\n",
       "    <tr>\n",
       "      <th>2</th>\n",
       "      <td>Dec 14</td>\n",
       "      <td>[empty]</td>\n",
       "      <td>I love showmax</td>\n",
       "    </tr>\n",
       "    <tr>\n",
       "      <th>3</th>\n",
       "      <td>Dec 14</td>\n",
       "      <td>[empty]</td>\n",
       "      <td>We love you too #DezemberWithShowmax ~FO</td>\n",
       "    </tr>\n",
       "    <tr>\n",
       "      <th>4</th>\n",
       "      <td>[empty]</td>\n",
       "      <td>[empty]</td>\n",
       "      <td>Strategy, RPG, MMO and endless action — see wh...</td>\n",
       "    </tr>\n",
       "    <tr>\n",
       "      <th>...</th>\n",
       "      <td>...</td>\n",
       "      <td>...</td>\n",
       "      <td>...</td>\n",
       "    </tr>\n",
       "    <tr>\n",
       "      <th>70</th>\n",
       "      <td>Dec 14</td>\n",
       "      <td>[empty]</td>\n",
       "      <td>Wura season has kicked off and I’m enjoying it</td>\n",
       "    </tr>\n",
       "    <tr>\n",
       "      <th>71</th>\n",
       "      <td>Dec 19</td>\n",
       "      <td>[empty]</td>\n",
       "      <td>I’m in love with this movie already , locked i...</td>\n",
       "    </tr>\n",
       "    <tr>\n",
       "      <th>72</th>\n",
       "      <td>Dec 14</td>\n",
       "      <td>[empty]</td>\n",
       "      <td>This one where kanayo day hmmmm</td>\n",
       "    </tr>\n",
       "    <tr>\n",
       "      <th>73</th>\n",
       "      <td>Dec 14</td>\n",
       "      <td>[empty]</td>\n",
       "      <td>@kudahelp_ng\\n \\n@joinkuda\\n should reverse my...</td>\n",
       "    </tr>\n",
       "    <tr>\n",
       "      <th>74</th>\n",
       "      <td>Dec 14</td>\n",
       "      <td>[empty]</td>\n",
       "      <td>Hi</td>\n",
       "    </tr>\n",
       "  </tbody>\n",
       "</table>\n",
       "<p>75 rows × 3 columns</p>\n",
       "</div>"
      ],
      "text/plain": [
       "   Date of Tweet Replying to  \\\n",
       "0         Dec 14     [empty]   \n",
       "1         Dec 14     [empty]   \n",
       "2         Dec 14     [empty]   \n",
       "3         Dec 14     [empty]   \n",
       "4        [empty]     [empty]   \n",
       "..           ...         ...   \n",
       "70        Dec 14     [empty]   \n",
       "71        Dec 19     [empty]   \n",
       "72        Dec 14     [empty]   \n",
       "73        Dec 14     [empty]   \n",
       "74        Dec 14     [empty]   \n",
       "\n",
       "                                                Tweet  \n",
       "0                                  Is it on YouTube??  \n",
       "1       No it is not, it is streaming on Showmax  ~AA  \n",
       "2                                      I love showmax  \n",
       "3            We love you too #DezemberWithShowmax ~FO  \n",
       "4   Strategy, RPG, MMO and endless action — see wh...  \n",
       "..                                                ...  \n",
       "70    Wura season has kicked off and I’m enjoying it   \n",
       "71  I’m in love with this movie already , locked i...  \n",
       "72                    This one where kanayo day hmmmm  \n",
       "73  @kudahelp_ng\\n \\n@joinkuda\\n should reverse my...  \n",
       "74                                                 Hi  \n",
       "\n",
       "[75 rows x 3 columns]"
      ]
     },
     "execution_count": 15,
     "metadata": {},
     "output_type": "execute_result"
    }
   ],
   "source": [
    "df"
   ]
  },
  {
   "cell_type": "markdown",
   "id": "2f41fcb0-7f50-4968-b5dd-d77811e7ec10",
   "metadata": {},
   "source": [
    "## TO DO"
   ]
  },
  {
   "cell_type": "code",
   "execution_count": 1,
   "id": "2a0dbe9b-a456-49b1-91d5-36fba1bf7e1b",
   "metadata": {},
   "outputs": [],
   "source": []
  },
  {
   "cell_type": "code",
   "execution_count": null,
   "id": "a3ce9e84-efcd-47e6-8cfb-11d12e8d44fb",
   "metadata": {},
   "outputs": [],
   "source": []
  }
 ],
 "metadata": {
  "kernelspec": {
   "display_name": "Python 3 (ipykernel)",
   "language": "python",
   "name": "python3"
  },
  "language_info": {
   "codemirror_mode": {
    "name": "ipython",
    "version": 3
   },
   "file_extension": ".py",
   "mimetype": "text/x-python",
   "name": "python",
   "nbconvert_exporter": "python",
   "pygments_lexer": "ipython3",
   "version": "3.10.9"
  }
 },
 "nbformat": 4,
 "nbformat_minor": 5
}
